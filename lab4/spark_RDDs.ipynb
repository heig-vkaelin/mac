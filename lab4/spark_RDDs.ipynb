{
 "cells": [
  {
   "cell_type": "markdown",
   "source": "# Méthode d'accès aux données\n## Labo: Spark\n\nAuteurs: Jonathan Friedli et Valentin Kaelin\n\nPrintemps 2022",
   "metadata": {
    "tags": [],
    "cell_id": "00000-3310c66d-5446-4902-a71d-c247f983b7b9",
    "deepnote_cell_type": "markdown",
    "deepnote_cell_height": 212.796875
   }
  },
  {
   "cell_type": "markdown",
   "source": "### Spark initialisation\n\nNothing to modify in this section.\n\nHere we create and configure the SparkSession and SparkContext.",
   "metadata": {
    "tags": [],
    "cell_id": "00001-2e8ba5bb-844f-466d-a4cf-64663e29bba5",
    "deepnote_cell_type": "markdown",
    "deepnote_cell_height": 136.796875
   }
  },
  {
   "cell_type": "code",
   "metadata": {
    "tags": [],
    "output_cleared": false,
    "source_hash": "8a0b1cc0",
    "execution_millis": 10707,
    "execution_start": 1654610436604,
    "deepnote_to_be_reexecuted": false,
    "cell_id": "00001-a8ac5949-9e14-481a-b325-79a8fc8d3f62",
    "is_code_hidden": false,
    "is_output_hidden": false,
    "deepnote_cell_type": "code",
    "deepnote_cell_height": 248
   },
   "source": "// The package xbean-asm7-shaded is required by NotebookSparkSession.\n// From version 3.2, Spark depends on xbean-asm9-shaded.\nimport $ivy.`org.apache.xbean:xbean-asm7-shaded:4.16`\n// Import the wanted version of Spark.\nimport $ivy.`org.apache.spark::spark-sql:3.2.0`",
   "execution_count": null,
   "outputs": [
    {
     "output_type": "execute_result",
     "execution_count": 1,
     "data": {
      "text/plain": "\u001b[32mimport \u001b[39m\u001b[36m$ivy.$                                        \n// Import the wanted version of Spark.\n\u001b[39m\n\u001b[32mimport \u001b[39m\u001b[36m$ivy.$                                  \u001b[39m"
     },
     "metadata": {}
    }
   ]
  },
  {
   "cell_type": "code",
   "metadata": {
    "tags": [],
    "output_cleared": false,
    "source_hash": "2bfc0f17",
    "execution_start": 1654610447393,
    "execution_millis": 4689,
    "deepnote_to_be_reexecuted": false,
    "cell_id": "00002-ade34de4-70de-49be-8e3d-77aba04a1d5d",
    "deepnote_cell_type": "code",
    "deepnote_cell_height": 154.1875
   },
   "source": "// Configure Logger to limit output\nimport org.apache.log4j.{Level, Logger}\nLogger.getLogger(\"org\").setLevel(Level.WARN)",
   "execution_count": null,
   "outputs": [
    {
     "output_type": "execute_result",
     "execution_count": 2,
     "data": {
      "text/plain": "\u001b[32mimport \u001b[39m\u001b[36morg.apache.log4j.{Level, Logger}\n\u001b[39m"
     },
     "metadata": {}
    }
   ]
  },
  {
   "cell_type": "code",
   "metadata": {
    "tags": [],
    "output_cleared": false,
    "source_hash": "b3b143bf",
    "execution_start": 1654610451570,
    "execution_millis": 11504,
    "deepnote_to_be_reexecuted": false,
    "cell_id": "00003-b9e5e404-f477-46c9-a73a-2e116fc0ef2a",
    "deepnote_cell_type": "code",
    "deepnote_cell_height": 559.171875
   },
   "source": "// Create the Spark session.\n// To have better integration with the notebook, we use a wrapper class provided by almond-spark\nimport org.apache.spark.sql._\nimport org.apache.spark.rdd._\n\nval spark = {\n  NotebookSparkSession.builder()\n    .master(\"local[*]\")\n    .getOrCreate()\n}",
   "execution_count": null,
   "outputs": [
    {
     "name": "stdout",
     "text": "Loading spark-stubs\nGetting spark JARs\nCreating SparkSession\nUsing Spark's default log4j profile: org/apache/spark/log4j-defaults.properties\n22/06/07 14:00:58 WARN NativeCodeLoader: Unable to load native-hadoop library for your platform... using builtin-java classes where applicable\n",
     "output_type": "stream"
    },
    {
     "data": {
      "text/html": "<a target=\"_blank\" href=\"http://p-e4added7-fb86-4475-95f5-9b3ee51af0de.projects-domain.projects.svc.cluster.local:4040\">Spark UI</a>"
     },
     "metadata": {},
     "output_type": "display_data"
    },
    {
     "output_type": "execute_result",
     "execution_count": 3,
     "data": {
      "text/plain": "\u001b[32mimport \u001b[39m\u001b[36morg.apache.spark.sql._\n\u001b[39m\n\u001b[32mimport \u001b[39m\u001b[36morg.apache.spark.rdd._\n\n\u001b[39m\n\u001b[36mspark\u001b[39m: \u001b[32mSparkSession\u001b[39m = org.apache.spark.sql.SparkSession@7c3bc851"
     },
     "metadata": {}
    }
   ]
  },
  {
   "cell_type": "code",
   "metadata": {
    "tags": [],
    "output_cleared": false,
    "source_hash": "75c0e264",
    "execution_start": 1654610462945,
    "execution_millis": 1066,
    "deepnote_to_be_reexecuted": false,
    "cell_id": "00004-5c6d9d80-88cb-4d7d-bacf-630efb4781f9",
    "deepnote_cell_type": "code",
    "deepnote_cell_height": 136.1875
   },
   "source": "// Retrieve the Spark context\ndef sc = spark.sparkContext",
   "execution_count": null,
   "outputs": [
    {
     "output_type": "execute_result",
     "execution_count": 4,
     "data": {
      "text/plain": "defined \u001b[32mfunction\u001b[39m \u001b[36msc\u001b[39m"
     },
     "metadata": {}
    }
   ]
  },
  {
   "cell_type": "markdown",
   "source": "### Dataset loading\n\nNothing to modify in this section.",
   "metadata": {
    "tags": [],
    "cell_id": "00007-64c1d0cf-fdb4-4bd0-a01f-06ba99931405",
    "deepnote_cell_type": "markdown",
    "deepnote_cell_height": 100.390625
   }
  },
  {
   "cell_type": "code",
   "metadata": {
    "tags": [],
    "output_cleared": false,
    "source_hash": "bc744cd2",
    "execution_start": 1654610464025,
    "execution_millis": 1682,
    "deepnote_to_be_reexecuted": false,
    "cell_id": "00005-ea971a92-ca2c-42c0-a320-d0173c25d3a5",
    "deepnote_cell_type": "code",
    "deepnote_cell_height": 154.1875
   },
   "source": "case class Movie(id: Int, title: String, genres: Seq[String],\n                 description: String, director: String, actors: Seq[String],\n                 year: Int, rating: Float, votes: Int)",
   "execution_count": null,
   "outputs": [
    {
     "output_type": "execute_result",
     "execution_count": 5,
     "data": {
      "text/plain": "defined \u001b[32mclass\u001b[39m \u001b[36mMovie\u001b[39m"
     },
     "metadata": {}
    }
   ]
  },
  {
   "cell_type": "code",
   "metadata": {
    "tags": [],
    "cell_id": "00008-a5bac1b1-bddb-4348-bcb3-75dbb9062f46",
    "deepnote_to_be_reexecuted": false,
    "source_hash": "29b6e4e4",
    "execution_start": 1654610465530,
    "execution_millis": 665,
    "deepnote_cell_type": "code",
    "deepnote_cell_height": 334.1875
   },
   "source": "def parseRow(row: Row): Movie = {\n    val id = row.getInt(0)\n    val title = row.getString(1)\n    val genres = row.getString(2).split(\",\").toList\n    val description = row.getString(3)\n    val director = row.getString(4)\n    val actors = row.getString(5).split(\",\").toList\n    val year = row.getInt(6)\n    val rating = row.getDouble(8).toFloat\n    val votes = row.getInt(9)\n\n    Movie(id, title, genres, description, director, actors, year, rating, votes)\n}",
   "execution_count": null,
   "outputs": [
    {
     "output_type": "execute_result",
     "execution_count": 6,
     "data": {
      "text/plain": "defined \u001b[32mfunction\u001b[39m \u001b[36mparseRow\u001b[39m"
     },
     "metadata": {}
    }
   ]
  },
  {
   "cell_type": "code",
   "metadata": {
    "tags": [],
    "cell_id": "00009-ccd8901f-d30d-47e6-b287-25d0c2f1373b",
    "deepnote_to_be_reexecuted": false,
    "source_hash": "2404df71",
    "execution_start": 1654610466207,
    "execution_millis": 17735,
    "deepnote_cell_type": "code",
    "deepnote_cell_height": 505.578125
   },
   "source": "val filename = \"/work/data/IMDB-Movie-Data.csv\"\nval moviesDF = spark.read.format(\"csv\")\n    .option(\"sep\", \",\")\n    .option(\"inferSchema\", \"true\")\n    .option(\"header\", \"true\")\n    .load(filename)\nval rddMovies = moviesDF.rdd.map(parseRow)",
   "execution_count": null,
   "outputs": [
    {
     "data": {
      "text/html": "<script>\nvar comm = Jupyter.notebook.kernel.comm_manager.new_comm('cancel-stage-987cd277-7e80-4562-aec9-e407fb5f0bdd', {});\n\nfunction cancelStage(stageId) {\n  console.log('Cancelling stage ' + stageId);\n  comm.send({ 'stageId': stageId });\n}\n</script>\n          "
     },
     "metadata": {},
     "output_type": "display_data"
    },
    {
     "data": {
      "text/html": "<div>\n  <span style=\"float: left; word-wrap: normal; white-space: nowrap; text-align: center\">load at cmd6.sc:6</span>\n  <span style=\"float: right; word-wrap: normal; white-space: nowrap; text-align: center\"><a href=\"#\" onclick=\"cancelStage(0);\">(kill)</a></span>\n</div>\n<br>\n"
     },
     "metadata": {},
     "output_type": "display_data"
    },
    {
     "data": {
      "text/html": "<div class=\"progress\">\n  <div class=\"progress-bar bg-success\" role=\"progressbar\" style=\"width: 0%; word-wrap: normal; white-space: nowrap; text-align: center; color: white\" aria-valuenow=\"0\" aria-valuemin=\"0\" aria-valuemax=\"100\">\n    0 / 1\n  </div>\n</div>\n"
     },
     "metadata": {},
     "output_type": "display_data"
    },
    {
     "data": {
      "text/html": "<div>\n  <span style=\"float: left; word-wrap: normal; white-space: nowrap; text-align: center\">load at cmd6.sc:6</span>\n  <span style=\"float: right; word-wrap: normal; white-space: nowrap; text-align: center\"><a href=\"#\" onclick=\"cancelStage(1);\">(kill)</a></span>\n</div>\n<br>\n"
     },
     "metadata": {},
     "output_type": "display_data"
    },
    {
     "data": {
      "text/html": "<div class=\"progress\">\n  <div class=\"progress-bar bg-success\" role=\"progressbar\" style=\"width: 0%; word-wrap: normal; white-space: nowrap; text-align: center; color: white\" aria-valuenow=\"0\" aria-valuemin=\"0\" aria-valuemax=\"100\">\n    0 / 1\n  </div>\n</div>\n"
     },
     "metadata": {},
     "output_type": "display_data"
    },
    {
     "output_type": "execute_result",
     "execution_count": 7,
     "data": {
      "text/plain": "\u001b[36mfilename\u001b[39m: \u001b[32mString\u001b[39m = \u001b[32m\"/work/data/IMDB-Movie-Data.csv\"\u001b[39m\n\u001b[36mmoviesDF\u001b[39m: \u001b[32mDataFrame\u001b[39m = [Rank: int, Title: string ... 10 more fields]\n\u001b[36mrddMovies\u001b[39m: \u001b[32mRDD\u001b[39m[\u001b[32mMovie\u001b[39m] = MapPartitionsRDD[15] at map at cmd6.sc:7"
     },
     "metadata": {}
    }
   ]
  },
  {
   "cell_type": "code",
   "metadata": {
    "tags": [],
    "cell_id": "00010-73a4984d-5c5b-4ee0-af56-a3e382dba0b8",
    "deepnote_to_be_reexecuted": false,
    "source_hash": "e1c7e96e",
    "execution_start": 1654610483999,
    "execution_millis": 3929,
    "deepnote_cell_type": "code",
    "deepnote_cell_height": 414
   },
   "source": "// Print the title of the first 10 movies to see if they were correctly added.\nrddMovies.take(10).map(m => m.title).foreach(println)",
   "execution_count": null,
   "outputs": [
    {
     "data": {
      "text/html": "<div>\n  <span style=\"float: left; word-wrap: normal; white-space: nowrap; text-align: center\">take at cmd7.sc:1</span>\n  <span style=\"float: right; word-wrap: normal; white-space: nowrap; text-align: center\"><a href=\"#\" onclick=\"cancelStage(2);\">(kill)</a></span>\n</div>\n<br>\n"
     },
     "metadata": {},
     "output_type": "display_data"
    },
    {
     "data": {
      "text/html": "<div class=\"progress\">\n  <div class=\"progress-bar bg-success\" role=\"progressbar\" style=\"width: 0%; word-wrap: normal; white-space: nowrap; text-align: center; color: white\" aria-valuenow=\"0\" aria-valuemin=\"0\" aria-valuemax=\"100\">\n    0 / 1\n  </div>\n</div>\n"
     },
     "metadata": {},
     "output_type": "display_data"
    },
    {
     "name": "stdout",
     "text": "Guardians of the Galaxy\nPrometheus\nSplit\nSing\nSuicide Squad\nThe Great Wall\nLa La Land\nMindhorn\nThe Lost City of Z\nPassengers\n",
     "output_type": "stream"
    }
   ]
  },
  {
   "cell_type": "markdown",
   "source": "### Part 1 - Playing with the movies using RDD functions\n\nThe goal of this part is to play (i.e. query, filter and transform the data) with the movies.",
   "metadata": {
    "tags": [],
    "cell_id": "00011-ca0f5d00-d94f-4e99-bee9-963d79a1ec52",
    "deepnote_cell_type": "markdown",
    "deepnote_cell_height": 100.390625
   }
  },
  {
   "cell_type": "markdown",
   "source": "#### Ex1 - Print the movies whose title contains \"City\" \n\nGoal: \n\n* use `map()` and `filter()` methods to get the title of the movies that contains \"City\" in their title\n \nOutput example:\n\n```plain\nCity of Tiny Lights\nThe Mortal Instruments: City of Bones\n```\n\nSteps:\n\n* Use `filter()` to only keep the movies that contains \"City\" in their title\n* Use `map()` to retrieve the titles of these filtered movies\n* Use `foreach()` to pretty print the results",
   "metadata": {
    "tags": [],
    "cell_id": "00012-0455daa6-9093-42d1-ab08-2f8b43df0c9a",
    "deepnote_cell_type": "markdown",
    "deepnote_cell_height": 363.59375
   }
  },
  {
   "cell_type": "code",
   "metadata": {
    "tags": [],
    "cell_id": "00013-c2841457-d9ab-4057-91cf-ac3cdf53c0e9",
    "deepnote_to_be_reexecuted": false,
    "source_hash": "832fc118",
    "execution_start": 1654610487476,
    "execution_millis": 2206,
    "deepnote_cell_type": "code",
    "deepnote_cell_height": 316.1875
   },
   "source": "rddMovies.filter(m => m.title.contains(\"City\")).map(m => m.title).foreach(println)",
   "execution_count": null,
   "outputs": [
    {
     "data": {
      "text/html": "<div>\n  <span style=\"float: left; word-wrap: normal; white-space: nowrap; text-align: center\">foreach at cmd8.sc:1</span>\n  <span style=\"float: right; word-wrap: normal; white-space: nowrap; text-align: center\"><a href=\"#\" onclick=\"cancelStage(3);\">(kill)</a></span>\n</div>\n<br>\n"
     },
     "metadata": {},
     "output_type": "display_data"
    },
    {
     "data": {
      "text/html": "<div class=\"progress\">\n  <div class=\"progress-bar bg-success\" role=\"progressbar\" style=\"width: 0%; word-wrap: normal; white-space: nowrap; text-align: center; color: white\" aria-valuenow=\"0\" aria-valuemin=\"0\" aria-valuemax=\"100\">\n    0 / 1\n  </div>\n</div>\n"
     },
     "metadata": {},
     "output_type": "display_data"
    },
    {
     "name": "stdout",
     "text": "The Lost City of Z\nSin City: A Dame to Kill For\nCity of Tiny Lights\nThe Mortal Instruments: City of Bones\nSex and the City\nSex and the City 2\n",
     "output_type": "stream"
    }
   ]
  },
  {
   "cell_type": "markdown",
   "source": "#### Ex2 - Print the title of the movies rated between `rateMin` and `rateMax`. Take the 10 worst ratings.\n\nGoal:\n    \n* Take the titles of the movies that were rated between `rateMin` and `rateMax` (excluding `rateMin` and including`rateMax`).\n* This list is sorted by rating ASC\n    \nOutput example:\n\n```plain\n...\n3.5 - Wrecker\n3.7 - The Last Face\n...\n```\n    \nSteps:\n\n* Use `filter()` to only keep the movies released between `rateMin` and `rateMax`\n* Sort the filtered movies by increasing rating\n* Use `map()` to keep only the relevant attributes (i.e. rating and title)\n* Use `foreach()` to pretty print the results",
   "metadata": {
    "tags": [],
    "cell_id": "00014-a10015b6-c2c6-4779-8a77-ee0918388134",
    "deepnote_cell_type": "markdown",
    "deepnote_cell_height": 460
   }
  },
  {
   "cell_type": "code",
   "metadata": {
    "tags": [],
    "cell_id": "00015-b2270887-137f-499a-99b8-63121504d460",
    "deepnote_to_be_reexecuted": false,
    "source_hash": "5b22b99b",
    "execution_start": 1654610489752,
    "execution_millis": 3659,
    "deepnote_cell_type": "code",
    "deepnote_cell_height": 677.375
   },
   "source": "val rateMin = 3\nval rateMax = 4\n\nrddMovies.filter(m => (m.rating > rateMin && m.rating <= rateMax))\n            .sortBy(m => m.rating, true)\n            .map(m => (m.rating, m.title))\n            .take(10)\n            .foreach(m => System.out.println(m._1 + \" - \" + m._2))",
   "execution_count": null,
   "outputs": [
    {
     "data": {
      "text/html": "<div>\n  <span style=\"float: left; word-wrap: normal; white-space: nowrap; text-align: center\">sortBy at cmd9.sc:5</span>\n  <span style=\"float: right; word-wrap: normal; white-space: nowrap; text-align: center\"><a href=\"#\" onclick=\"cancelStage(4);\">(kill)</a></span>\n</div>\n<br>\n"
     },
     "metadata": {},
     "output_type": "display_data"
    },
    {
     "data": {
      "text/html": "<div class=\"progress\">\n  <div class=\"progress-bar bg-success\" role=\"progressbar\" style=\"width: 0%; word-wrap: normal; white-space: nowrap; text-align: center; color: white\" aria-valuenow=\"0\" aria-valuemin=\"0\" aria-valuemax=\"100\">\n    0 / 1\n  </div>\n</div>\n"
     },
     "metadata": {},
     "output_type": "display_data"
    },
    {
     "data": {
      "text/html": "<div>\n  <span style=\"float: left; word-wrap: normal; white-space: nowrap; text-align: center\">take at cmd9.sc:7</span>\n  <span style=\"float: right; word-wrap: normal; white-space: nowrap; text-align: center\"><a href=\"#\" onclick=\"cancelStage(5);\">(kill)</a></span>\n</div>\n<br>\n"
     },
     "metadata": {},
     "output_type": "display_data"
    },
    {
     "data": {
      "text/html": "<div class=\"progress\">\n  <div class=\"progress-bar bg-success\" role=\"progressbar\" style=\"width: 0%; word-wrap: normal; white-space: nowrap; text-align: center; color: white\" aria-valuenow=\"0\" aria-valuemin=\"0\" aria-valuemax=\"100\">\n    0 / 1\n  </div>\n</div>\n"
     },
     "metadata": {},
     "output_type": "display_data"
    },
    {
     "name": "stdout",
     "text": "3.2 - Tall Men\n3.5 - The Intent\n3.5 - Wrecker\n3.7 - The Last Face\n3.7 - Satanic\n3.9 - The Disappointments Room\n3.9 - The Black Room\n3.9 - Birth of the Dragon\n4.0 - 2307: Winter's Dream\n",
     "output_type": "stream"
    },
    {
     "output_type": "execute_result",
     "execution_count": 10,
     "data": {
      "text/plain": "\u001b[36mrateMin\u001b[39m: \u001b[32mInt\u001b[39m = \u001b[32m3\u001b[39m\n\u001b[36mrateMax\u001b[39m: \u001b[32mInt\u001b[39m = \u001b[32m4\u001b[39m"
     },
     "metadata": {}
    }
   ]
  },
  {
   "cell_type": "markdown",
   "source": "#### Ex3 - Print the 10 top genres\n\nGoals:\n\n* Print the list of the genres that appears the most\n* Use `flatMap()`\n\nOutput example:\n\n```plain\nDrama (513)\nAction (303)\nComedy (279)\nAdventure (259)\n```\n\nTheory:\n\nWhen an operation is giving you a sequence of sequences like:\n\n```scala\nArray(\"hello\", \"world\").map(word => word.split(\"\"))\nres91: Array[Array[String]] = Array(Array(h, e, l, l, o), Array(w, o, r, l, d))\n```\n\nYou may want to flatten this to only have a single list like:\n```scala\nArray(\"hello\", \"world\").map(_.split(\"\")).flatten\nres93: Array[String] = Array(h, e, l, l, o, w, o, r, l, d)\n```\n\nYou can achieve the same result (i.e. `map` + `flatten`) using `flatMap`:\n```scala\nArray(\"hello\", \"world\").flatMap(_.split(\"\"))\nres95: Array[String] = Array(h, e, l, l, o, w, o, r, l, d)\n```\n\nWe are going to apply this same technique with the `genres` member.\n\nSteps:\n\n* Use `flatMap()` to get the list with all the genres\n* Make sure to remove trailling whitespaces\n* Count the genres\n* Sort them by decreasing order\n* Show the top 10 genres",
   "metadata": {
    "tags": [],
    "cell_id": "00016-b517f65c-df4e-48dd-b7bb-c46c9eb54026",
    "deepnote_cell_type": "markdown",
    "deepnote_cell_height": 861
   }
  },
  {
   "cell_type": "code",
   "metadata": {
    "tags": [],
    "cell_id": "00016-e47a20d8-e386-43c9-be98-3b48807d6f1a",
    "allow_embed": false,
    "deepnote_to_be_reexecuted": false,
    "source_hash": "4ca3550a",
    "execution_start": 1654610493490,
    "execution_millis": 3264,
    "deepnote_cell_type": "code",
    "deepnote_cell_height": 712
   },
   "source": "rddMovies\n    .flatMap(m => m.genres)\n    .map(g => (g.trim(), 1))\n    .reduceByKey(_ + _)\n    .sortBy(g => g._2, false)\n    .take(10)\n    .foreach(g => println(g._1 + \" (\" + g._2 + \")\"))",
   "execution_count": null,
   "outputs": [
    {
     "data": {
      "text/html": "<div>\n  <span style=\"float: left; word-wrap: normal; white-space: nowrap; text-align: center\">map at cmd10.sc:3</span>\n  <span style=\"float: right; word-wrap: normal; white-space: nowrap; text-align: center\"><a href=\"#\" onclick=\"cancelStage(6);\">(kill)</a></span>\n</div>\n<br>\n"
     },
     "metadata": {},
     "output_type": "display_data"
    },
    {
     "data": {
      "text/html": "<div class=\"progress\">\n  <div class=\"progress-bar bg-success\" role=\"progressbar\" style=\"width: 0%; word-wrap: normal; white-space: nowrap; text-align: center; color: white\" aria-valuenow=\"0\" aria-valuemin=\"0\" aria-valuemax=\"100\">\n    0 / 1\n  </div>\n</div>\n"
     },
     "metadata": {},
     "output_type": "display_data"
    },
    {
     "data": {
      "text/html": "<div>\n  <span style=\"float: left; word-wrap: normal; white-space: nowrap; text-align: center\">sortBy at cmd10.sc:5</span>\n  <span style=\"float: right; word-wrap: normal; white-space: nowrap; text-align: center\"><a href=\"#\" onclick=\"cancelStage(7);\">(kill)</a></span>\n</div>\n<br>\n"
     },
     "metadata": {},
     "output_type": "display_data"
    },
    {
     "data": {
      "text/html": "<div class=\"progress\">\n  <div class=\"progress-bar bg-success\" role=\"progressbar\" style=\"width: 0%; word-wrap: normal; white-space: nowrap; text-align: center; color: white\" aria-valuenow=\"0\" aria-valuemin=\"0\" aria-valuemax=\"100\">\n    0 / 1\n  </div>\n</div>\n"
     },
     "metadata": {},
     "output_type": "display_data"
    },
    {
     "data": {
      "text/html": "<div>\n  <span style=\"float: left; word-wrap: normal; white-space: nowrap; text-align: center\">take at cmd10.sc:6</span>\n  <span style=\"float: right; word-wrap: normal; white-space: nowrap; text-align: center\"><a href=\"#\" onclick=\"cancelStage(8);\">(kill)</a></span>\n</div>\n<br>\n"
     },
     "metadata": {},
     "output_type": "display_data"
    },
    {
     "data": {
      "text/html": "<div class=\"progress\">\n  <div class=\"progress-bar bg-success\" role=\"progressbar\" style=\"width: 0%; word-wrap: normal; white-space: nowrap; text-align: center; color: white\" aria-valuenow=\"0\" aria-valuemin=\"0\" aria-valuemax=\"100\">\n    0 / 1\n  </div>\n</div>\n"
     },
     "metadata": {},
     "output_type": "display_data"
    },
    {
     "name": "stdout",
     "text": "Drama (513)\nAction (303)\nComedy (279)\nAdventure (259)\nThriller (195)\nCrime (150)\nRomance (141)\nSci-Fi (120)\nHorror (119)\nMystery (106)\n",
     "output_type": "stream"
    }
   ]
  },
  {
   "cell_type": "markdown",
   "source": "#### Ex4 - Print the average number of votes per year, order by descreasing number of votes\n\nGoal:\n\n* Print the average votes per year\n* This output is sorted by descreasing votes\n\nOutput example:\n\n```plain\n...\nyear: 2008 average votes: 275505.3846153846\nyear: 2009 average votes: 255780.64705882352\nyear: 2010 average votes: 252782.31666666668\n...\n```\n\nTheory:\n\nWe are going to use `reduceByKey()` which has the following signature `reduceByKey(func: (V, V) => V): RDD[(K, V)]`. \n\n`reduceByKey()` works on a RDD like `RDD[(K,V)]` (i.e. sort of \"list of key/values pairs\"). \n\n`reduceByKey()` takes a function that, from two elements, returns one i.e. the `func: (V, V) => V` in the signature.\nThe difference with `reduce()` is that `reduceByKey()` uses two elements sharing the same key.\n\nFor example (pseudo code):\n\n```plain\n year, count\n(2010, 2)\n(2011, 3)\n(2011, 4)\n(2010, 8)\n// use reduceByKey((count1, count2) => count1+count2)\n> (2010, 10)\n> (2011, 7)\n```\n\nNote: here `count` is just an Int but it can be anything e.g. `Movie`\n\nSteps:\n\n* To compute the average we need the **total sum** of votes per year and the **count** of all the movies per year\n* Use `map()` to create an RDD made of `(year, (votes, 1))`. Like a word count we use the `1` to be able to count the number of movies per year\n* Use `reduceByKey()` to sum the votes and to count the number of movies per year. The output should look like: `(year, (totalVotes, moviePerYearCount))`\n* Find a way to compute the average using the result from the last operation\n* Sort by number of votes decreasing",
   "metadata": {
    "tags": [],
    "cell_id": "00018-708d9790-a11f-4f8d-be10-4f89e85775de",
    "deepnote_cell_type": "markdown",
    "deepnote_cell_height": 991.796875
   }
  },
  {
   "cell_type": "code",
   "metadata": {
    "tags": [],
    "cell_id": "00017-e3c7840f-2512-42af-8401-8137ed1ae209",
    "allow_embed": false,
    "deepnote_to_be_reexecuted": false,
    "source_hash": "567914cd",
    "execution_start": 1654610496947,
    "execution_millis": 2383,
    "deepnote_cell_type": "code",
    "deepnote_cell_height": 823.375
   },
   "source": "val intermediate = rddMovies\n    .map(m => (m.year, (m.votes, 1)))\n    .reduceByKey((v1, v2) => (v1._1 + v2._1, v1._2 + v2._2))\n\nval avgVotes = intermediate.mapValues {\n    case (votes, numberOfFilms) => votes / numberOfFilms.toFloat\n}\n\navgVotes\n    .sortBy(y => y._2, false)\n    .foreach(y => println(\"year: \" + y._1 + \" average votes: \" + y._2))",
   "execution_count": null,
   "outputs": [
    {
     "data": {
      "text/html": "<div>\n  <span style=\"float: left; word-wrap: normal; white-space: nowrap; text-align: center\">map at cmd11.sc:2</span>\n  <span style=\"float: right; word-wrap: normal; white-space: nowrap; text-align: center\"><a href=\"#\" onclick=\"cancelStage(9);\">(kill)</a></span>\n</div>\n<br>\n"
     },
     "metadata": {},
     "output_type": "display_data"
    },
    {
     "data": {
      "text/html": "<div class=\"progress\">\n  <div class=\"progress-bar bg-success\" role=\"progressbar\" style=\"width: 0%; word-wrap: normal; white-space: nowrap; text-align: center; color: white\" aria-valuenow=\"0\" aria-valuemin=\"0\" aria-valuemax=\"100\">\n    0 / 1\n  </div>\n</div>\n"
     },
     "metadata": {},
     "output_type": "display_data"
    },
    {
     "data": {
      "text/html": "<div class=\"progress\">\n  <div class=\"progress-bar bg-success\" role=\"progressbar\" style=\"width: 0%; word-wrap: normal; white-space: nowrap; text-align: center; color: white\" aria-valuenow=\"0\" aria-valuemin=\"0\" aria-valuemax=\"100\">\n    0 / 1\n  </div>\n</div>\n"
     },
     "metadata": {},
     "output_type": "display_data"
    },
    {
     "data": {
      "text/html": "<div>\n  <span style=\"float: left; word-wrap: normal; white-space: nowrap; text-align: center\">foreach at cmd11.sc:11</span>\n  <span style=\"float: right; word-wrap: normal; white-space: nowrap; text-align: center\"><a href=\"#\" onclick=\"cancelStage(11);\">(kill)</a></span>\n</div>\n<br>\n"
     },
     "metadata": {},
     "output_type": "display_data"
    },
    {
     "data": {
      "text/html": "<div class=\"progress\">\n  <div class=\"progress-bar bg-success\" role=\"progressbar\" style=\"width: 0%; word-wrap: normal; white-space: nowrap; text-align: center; color: white\" aria-valuenow=\"0\" aria-valuemin=\"0\" aria-valuemax=\"100\">\n    0 / 1\n  </div>\n</div>\n"
     },
     "metadata": {},
     "output_type": "display_data"
    },
    {
     "name": "stdout",
     "text": "year: 2012 average votes: 285226.1\nyear: 2008 average votes: 275505.38\nyear: 2006 average votes: 269289.97\nyear: 2009 average votes: 255780.64\nyear: 2010 average votes: 252782.31\nyear: 2007 average votes: 244331.03\nyear: 2011 average votes: 240790.3\nyear: 2013 average votes: 219049.64\nyear: 2014 average votes: 203930.22\nyear: 2015 average votes: 115726.22\nyear: 2016 average votes: 48591.754\n",
     "output_type": "stream"
    },
    {
     "output_type": "execute_result",
     "execution_count": 12,
     "data": {
      "text/plain": "\u001b[36mintermediate\u001b[39m: \u001b[32mRDD\u001b[39m[(\u001b[32mInt\u001b[39m, (\u001b[32mInt\u001b[39m, \u001b[32mInt\u001b[39m))] = ShuffledRDD[30] at reduceByKey at cmd11.sc:3\n\u001b[36mavgVotes\u001b[39m: \u001b[32mRDD\u001b[39m[(\u001b[32mInt\u001b[39m, \u001b[32mFloat\u001b[39m)] = MapPartitionsRDD[31] at mapValues at cmd11.sc:5"
     },
     "metadata": {}
    }
   ]
  },
  {
   "cell_type": "markdown",
   "source": "### Part 2 - Create a basic Inverted Index\n\nThe goal of this part is to show you how to create an inverted index that indexes words from all the movies' description.",
   "metadata": {
    "tags": [],
    "cell_id": "00020-dbabd610-9d4e-4f4d-91c9-892b614322a5",
    "deepnote_cell_type": "markdown",
    "deepnote_cell_height": 100.390625
   }
  },
  {
   "cell_type": "markdown",
   "source": "Goal:\n\nUsing `rddMovies` create an inverted that use the movies' description:\n\n```plain\nMovie(1,Guardians of the Galaxy,List(Action, Adventure, Sci-Fi),A group of intergalactic [...] of the universe.,James Gunn,List(Chris Pratt, Vin Diesel, Bradley Cooper, Zoe Saldana),2014,8.1,757074.0)\nMovie(2,Prometheus,List(Adventure, Mystery, Sci-Fi),Following clues to the origin[...] not alone.,Ridley Scott,List(Noomi Rapace, Logan Marshall-Green, Michael Fassbender, Charlize Theron),2012,7.0,485820.0)\nMovie(3,Split,List(Horror, Thriller),Three girls are kidnapped [...] a frightful new 24th.,M. Night Shyamalan,List(James McAvoy, Anya Taylor-Joy, Haley Lu Richardson, Jessica Sula),2016,7.3,157606.0)\n...\n```\n\nand extract them to produce an inverted index like:\n\n```plain\n\"reunion\" -> (640, 697)\n\"runner\" -> (338)\n\"vietnam\" -> (797, 947, 983)\n...\n```\n\nSteps\n\n* Tokenize description i.e. produce an RDD like (movId, words)\n* Normalize words e.g. toLowercase, trimming,..\n* Remove stopwords (ignored here)\n* Apply stemming (ignored here)\n* Group by document id",
   "metadata": {
    "tags": [],
    "cell_id": "00021-a5de184d-3017-40d7-a383-49606c19c5df",
    "deepnote_cell_type": "markdown",
    "deepnote_cell_height": 644.796875
   }
  },
  {
   "cell_type": "code",
   "metadata": {
    "tags": [],
    "cell_id": "00018-b099134f-95a0-4db1-aab0-422f19b413da",
    "allow_embed": false,
    "deepnote_to_be_reexecuted": false,
    "source_hash": "caa36d91",
    "execution_start": 1654610499455,
    "execution_millis": 1140,
    "output_cleared": false,
    "owner_user_id": "3a75ffa6-e7a4-42ae-a7a5-6bc0e35a7c19",
    "deepnote_cell_type": "code",
    "deepnote_cell_height": 1324.1875,
    "deepnote_output_heights": [
     21.1875
    ]
   },
   "source": "/**\n* Goal: create an inverted index that allows searching a word\n* in the movies description.\n* Features:\n* - case insensitive\n*\n*/\n// In this first function we are going to tokenize and order the descriptions of the movies, then return these data. We are not going to apply any search right now.\ndef createInvertedIndex(movies: RDD[Movie]): RDD[(String, Iterable[Int])] = {\n    // Define helper functions directly inside this function. In scala you can declare inner functions\n    // and use them only inside the function they were declared. Useful to encapsulate/restrict \n    // their use outside this function.\n    \n    // Split the given string into an array of words (without any formatting), then return it.\n    def tokenizeDescription(description: String): Seq[String] = {\n        description.split(\"[ ,.]+\") // On split aussi sur les virgules et points potentiellement collés aux mots\n    }\n    \n    // Remove the blank spaces (trim) in the given word, transform it in lowercase, then return it.\n    def normalizeWord(word: String): String = {\n        word.trim().toLowerCase()\n    }\n    \n    // For the sake of simplicity let's ignore the implementation (in a real case we would return true if w is a stopword, otherwise false).\n    def isStopWord(w: String): Boolean = {\n        false\n    }\n    \n    // For the sake of simplicity let's ignore the implementation (in a real case we would apply stemming to w and return the result, e.g. w=automation -> w=automat).\n    def applyStemming(w: String): String = {\n        w\n    }\n    \n    // Here we are going to work on the movies RDD, by tokenizing and normalizing the description of every \n    // movie, then by building a key-value object that contains the tokens as keys, and the IDs of \n    // the movies as values\n    // (see the example on 4).\n    // The goal here is to do everything by chaining the possible transformations and actions of Spark.\n    // Possible steps:\n    //   1) What we first want to do here is applying the 4 previous methods on any movie's description. \n    //      Be aware of the fact that we also want to keep the IDs of the movies.\n    //   2) For each tokenized word, create a tuple as (word, id), where id is the current movie id\n    //        [\n    //          (\"toto\", 120), (\"mange\", 120), (\"des\", 120), (\"pommes\", 120),\n    //          (\"toto\", 121), (\"lance\", 121), (\"des\", 121), (\"photocopies\", 121)\n    //        ]\n    //      Hint: you can use a `map` function inside another `map` function.\n    //   3) We finally need to find a way to remove duplicated keys and thus only having one entry per key,\n    //      with all the linked IDs as values. For example:\n    //        [\n    //          (\"toto\", [120, 121]),\n    //          (\"mange\", [120]),\n    //          ...\n    //        ]\n\n    val invertedIndex = movies\n        .flatMap(m => \n            tokenizeDescription(m.description).map(w => (w, m.id))\n        )\n        .map(m => (normalizeWord(m._1), m._2))\n        .filter(m => !isStopWord(m._1))\n        .map(m => (applyStemming(m._1), m._2))\n        .distinct()  // enlever les doublons\n        .groupByKey()\n\n    // Return the new-built inverted index.\n    invertedIndex\n}",
   "execution_count": null,
   "outputs": [
    {
     "output_type": "execute_result",
     "execution_count": 13,
     "data": {
      "text/plain": "defined \u001b[32mfunction\u001b[39m \u001b[36mcreateInvertedIndex\u001b[39m"
     },
     "metadata": {}
    }
   ]
  },
  {
   "cell_type": "markdown",
   "source": "Now we would like to use our inverted index to display the top N most used words in the descriptions of movies.",
   "metadata": {
    "tags": [],
    "cell_id": "00023-14a2909b-d0bf-43f9-a2f5-337dbe0ac918",
    "deepnote_cell_type": "markdown",
    "deepnote_cell_height": 52.390625
   }
  },
  {
   "cell_type": "code",
   "metadata": {
    "tags": [],
    "cell_id": "00019-540bfff2-5c2c-427f-a129-274e24ab8b33",
    "allow_embed": false,
    "deepnote_to_be_reexecuted": false,
    "source_hash": "1de1bc76",
    "execution_start": 1654610500615,
    "execution_millis": 860,
    "deepnote_cell_type": "code",
    "deepnote_cell_height": 352.1875,
    "deepnote_output_heights": [
     21.1875
    ]
   },
   "source": "// Here we are going to operate the analytic and display its result on a given inverted index (that will be obtained from the previous function).\ndef topN(invertedIndex: RDD[(String, Iterable[Int])], N: Int): Unit = {\n  // We are going to work on the given invertedIndex array to do our analytic:\n  //   1) Find a way to get the number of movie in which a word appears.\n  //   2) Keep only the top N words and their occurence.\n  val topWords = invertedIndex\n    .map(m => (m._1, m._2.size))\n    .sortBy(m => m._2, false)\n    .take(N)\n  \n  // Print the words and the number of descriptions in which they appear.\n  println(\"Top '\" + N + \"' most used words\")\n  topWords.foreach(println)\n}",
   "execution_count": null,
   "outputs": [
    {
     "output_type": "execute_result",
     "execution_count": 14,
     "data": {
      "text/plain": "defined \u001b[32mfunction\u001b[39m \u001b[36mtopN\u001b[39m"
     },
     "metadata": {}
    }
   ]
  },
  {
   "cell_type": "code",
   "metadata": {
    "tags": [],
    "cell_id": "00020-044dd3b1-457e-415a-8739-e813a0175a95",
    "allow_embed": false,
    "deepnote_to_be_reexecuted": false,
    "source_hash": "41310586",
    "execution_start": 1654610501491,
    "execution_millis": 5517,
    "deepnote_cell_type": "code",
    "deepnote_cell_height": 1114.9375,
    "deepnote_output_heights": [
     21.1875,
     21.1875,
     21.1875
    ]
   },
   "source": "// Code used to test your implementation.\n// Create the inverted index of the movies.\nval invertedIndex = createInvertedIndex(rddMovies)\n\n// Show how the inverted index looks like.\ninvertedIndex.take(3).foreach(x => println(x._1 + \": \" + x._2.mkString(\", \")))\n\n// Show the top 10 most used words.\ntopN(invertedIndex, 10)",
   "execution_count": null,
   "outputs": [
    {
     "data": {
      "text/html": "<div>\n  <span style=\"float: left; word-wrap: normal; white-space: nowrap; text-align: center\">distinct at cmd12.sc:54</span>\n  <span style=\"float: right; word-wrap: normal; white-space: nowrap; text-align: center\"><a href=\"#\" onclick=\"cancelStage(12);\">(kill)</a></span>\n</div>\n<br>\n"
     },
     "metadata": {},
     "output_type": "display_data"
    },
    {
     "data": {
      "text/html": "<div class=\"progress\">\n  <div class=\"progress-bar bg-success\" role=\"progressbar\" style=\"width: 0%; word-wrap: normal; white-space: nowrap; text-align: center; color: white\" aria-valuenow=\"0\" aria-valuemin=\"0\" aria-valuemax=\"100\">\n    0 / 1\n  </div>\n</div>\n"
     },
     "metadata": {},
     "output_type": "display_data"
    },
    {
     "data": {
      "text/html": "<div>\n  <span style=\"float: left; word-wrap: normal; white-space: nowrap; text-align: center\">distinct at cmd12.sc:54</span>\n  <span style=\"float: right; word-wrap: normal; white-space: nowrap; text-align: center\"><a href=\"#\" onclick=\"cancelStage(13);\">(kill)</a></span>\n</div>\n<br>\n"
     },
     "metadata": {},
     "output_type": "display_data"
    },
    {
     "data": {
      "text/html": "<div class=\"progress\">\n  <div class=\"progress-bar bg-success\" role=\"progressbar\" style=\"width: 0%; word-wrap: normal; white-space: nowrap; text-align: center; color: white\" aria-valuenow=\"0\" aria-valuemin=\"0\" aria-valuemax=\"100\">\n    0 / 1\n  </div>\n</div>\n"
     },
     "metadata": {},
     "output_type": "display_data"
    },
    {
     "data": {
      "text/html": "<div>\n  <span style=\"float: left; word-wrap: normal; white-space: nowrap; text-align: center\">take at cmd14.sc:4</span>\n  <span style=\"float: right; word-wrap: normal; white-space: nowrap; text-align: center\"><a href=\"#\" onclick=\"cancelStage(14);\">(kill)</a></span>\n</div>\n<br>\n"
     },
     "metadata": {},
     "output_type": "display_data"
    },
    {
     "data": {
      "text/html": "<div class=\"progress\">\n  <div class=\"progress-bar bg-success\" role=\"progressbar\" style=\"width: 0%; word-wrap: normal; white-space: nowrap; text-align: center; color: white\" aria-valuenow=\"0\" aria-valuemin=\"0\" aria-valuemax=\"100\">\n    0 / 1\n  </div>\n</div>\n"
     },
     "metadata": {},
     "output_type": "display_data"
    },
    {
     "name": "stdout",
     "text": "divorcee: 63\nreunion: 697, 640\nconfidants: 785\n",
     "output_type": "stream"
    },
    {
     "data": {
      "text/html": "<div>\n  <span style=\"float: left; word-wrap: normal; white-space: nowrap; text-align: center\">sortBy at cmd13.sc:7</span>\n  <span style=\"float: right; word-wrap: normal; white-space: nowrap; text-align: center\"><a href=\"#\" onclick=\"cancelStage(17);\">(kill)</a></span>\n</div>\n<br>\n"
     },
     "metadata": {},
     "output_type": "display_data"
    },
    {
     "data": {
      "text/html": "<div class=\"progress\">\n  <div class=\"progress-bar bg-success\" role=\"progressbar\" style=\"width: 0%; word-wrap: normal; white-space: nowrap; text-align: center; color: white\" aria-valuenow=\"0\" aria-valuemin=\"0\" aria-valuemax=\"100\">\n    0 / 1\n  </div>\n</div>\n"
     },
     "metadata": {},
     "output_type": "display_data"
    },
    {
     "data": {
      "text/html": "<div>\n  <span style=\"float: left; word-wrap: normal; white-space: nowrap; text-align: center\">take at cmd13.sc:8</span>\n  <span style=\"float: right; word-wrap: normal; white-space: nowrap; text-align: center\"><a href=\"#\" onclick=\"cancelStage(18);\">(kill)</a></span>\n</div>\n<br>\n"
     },
     "metadata": {},
     "output_type": "display_data"
    },
    {
     "data": {
      "text/html": "<div class=\"progress\">\n  <div class=\"progress-bar bg-success\" role=\"progressbar\" style=\"width: 0%; word-wrap: normal; white-space: nowrap; text-align: center; color: white\" aria-valuenow=\"0\" aria-valuemin=\"0\" aria-valuemax=\"100\">\n    0 / 1\n  </div>\n</div>\n"
     },
     "metadata": {},
     "output_type": "display_data"
    },
    {
     "name": "stdout",
     "text": "Top '10' most used words\n(a,837)\n(the,720)\n(to,628)\n(of,559)\n(and,553)\n(in,459)\n(his,327)\n(an,259)\n(is,256)\n(with,243)\n",
     "output_type": "stream"
    },
    {
     "output_type": "execute_result",
     "execution_count": 15,
     "data": {
      "text/plain": "\u001b[36minvertedIndex\u001b[39m: \u001b[32mRDD\u001b[39m[(\u001b[32mString\u001b[39m, \u001b[32mIterable\u001b[39m[\u001b[32mInt\u001b[39m])] = ShuffledRDD[42] at groupByKey at cmd12.sc:55"
     },
     "metadata": {}
    }
   ]
  },
  {
   "cell_type": "markdown",
   "source": "### Part 3 - Dataframe and SparkSQL\n\nFor all of the following exercices, write your queries in two different ways:\n\n* using the sql literal\n* using DataFrame API (select, where, etc.)",
   "metadata": {
    "cell_id": "d11c3ce0f05e465fb0c850d7b8ca015c",
    "tags": [],
    "deepnote_cell_type": "markdown",
    "deepnote_cell_height": 176.1875
   }
  },
  {
   "cell_type": "markdown",
   "source": "#### Ex1 - Use the moviesDF DataFrame\n\n* Use the dataframe `moviesDF` already created when loading the data \n* Print the schema of moviesDF\n* Show the first 10 lines of the moviesDF as a table",
   "metadata": {
    "cell_id": "4665d4572f75410089772ac5fb49b414",
    "tags": [],
    "deepnote_cell_type": "markdown",
    "deepnote_cell_height": 153.1875
   }
  },
  {
   "cell_type": "code",
   "metadata": {
    "cell_id": "43bc3792f4494053aa0055671fa43589",
    "tags": [],
    "deepnote_to_be_reexecuted": false,
    "source_hash": "73c472a0",
    "execution_start": 1654610506548,
    "execution_millis": 0,
    "deepnote_cell_type": "code",
    "deepnote_cell_height": 81
   },
   "source": "// TODO students",
   "execution_count": null,
   "outputs": []
  },
  {
   "cell_type": "markdown",
   "source": "#### Ex2 - Get the movies (id, title, votes, director) whose title contains \"City\" \n\nApply two different ways: \n\n* use the sql literal \n* use DataFrame API (select, where, etc.)",
   "metadata": {
    "cell_id": "581c71004a3d417b8e735b266fcb95c8",
    "tags": [],
    "deepnote_cell_type": "markdown",
    "deepnote_cell_height": 164.1875
   }
  },
  {
   "cell_type": "code",
   "metadata": {
    "cell_id": "878847fde13e4a4686a65b5304113587",
    "tags": [],
    "deepnote_to_be_reexecuted": false,
    "source_hash": "b6d322ce",
    "execution_start": 1654610506548,
    "execution_millis": 1,
    "deepnote_cell_type": "code",
    "deepnote_cell_height": 81
   },
   "source": "// TODO student",
   "execution_count": null,
   "outputs": []
  },
  {
   "cell_type": "markdown",
   "source": "#### Ex3 - Get the number of movies which have a number of votes between 500 and 2000 (inclusive range)",
   "metadata": {
    "cell_id": "581ec518d6e6455caac73d99f3d23e75",
    "tags": [],
    "deepnote_cell_type": "markdown",
    "deepnote_cell_height": 78
   }
  },
  {
   "cell_type": "code",
   "metadata": {
    "cell_id": "7804d7595b5242f8aa6eedb089f74ffc",
    "tags": [],
    "deepnote_to_be_reexecuted": false,
    "source_hash": "b6d322ce",
    "execution_start": 1654610506592,
    "execution_millis": 0,
    "deepnote_cell_type": "code",
    "deepnote_cell_height": 81
   },
   "source": "// TODO student",
   "execution_count": null,
   "outputs": []
  },
  {
   "cell_type": "markdown",
   "source": "#### Ex4 - Get the minimum, maximum and average rating of films per director. Sort the results by minimum rating.  ",
   "metadata": {
    "cell_id": "43d470ed82774ef28d6e8cfe01b20d94",
    "tags": [],
    "deepnote_cell_type": "markdown",
    "deepnote_cell_height": 78
   }
  },
  {
   "cell_type": "code",
   "metadata": {
    "cell_id": "504c3e9151204e59a59eb2ba111d6056",
    "tags": [],
    "deepnote_to_be_reexecuted": false,
    "source_hash": "b6d322ce",
    "execution_start": 1654610506593,
    "execution_millis": 8,
    "deepnote_cell_type": "code",
    "deepnote_cell_height": 81
   },
   "source": "// TODO student",
   "execution_count": null,
   "outputs": []
  },
  {
   "cell_type": "markdown",
   "source": "#### Ex5 - Find the title of the movie(s) having the minimum rating for each year. Show the title, year and the rating information in the result, order by increasing rating.\n\n**Example output**\n\n```plain\n+--------------------+----+------+\n|               title|year|rating|\n+--------------------+----+------+\n|      Disaster Movie|2008|   1.9|\n|Don't Fuck in the...|2016|   2.7|\n|Dragonball Evolution|2009|   2.7|\n...\n```",
   "metadata": {
    "cell_id": "2e7bde80ba204f609c934b80558331b6",
    "tags": [],
    "deepnote_cell_type": "markdown",
    "deepnote_cell_height": 303.1875
   }
  },
  {
   "cell_type": "code",
   "metadata": {
    "cell_id": "4fc72f27cd3c4be8852e1d482023ef72",
    "tags": [],
    "deepnote_to_be_reexecuted": false,
    "source_hash": "b6d322ce",
    "execution_start": 1654610506656,
    "execution_millis": 1,
    "deepnote_cell_type": "code",
    "deepnote_cell_height": 81
   },
   "source": "// TODO student",
   "execution_count": null,
   "outputs": []
  },
  {
   "cell_type": "markdown",
   "source": "#### Ex6 - Find the title of movies having the same director. \n\n**Example output**\n\n```plain\n+------------------+--------------------+--------------------+\n|         director1|              title1|              title2|\n+------------------+--------------------+--------------------+\n|        James Gunn|Guardians of the ...|               Super|\n|        James Gunn|Guardians of the ...|             Slither|\n|      Ridley Scott|          Prometheus|        Body of Lies|\n|      Ridley Scott|          Prometheus|         A Good Year|\n...\n```\n\nNote that when using the dataframe API:\n* You can use `===` to test equality of columns and `!==` to test non-equality of them\n* You can use the `as` keyword to make alias of column names and table names (check the reference documentation)",
   "metadata": {
    "cell_id": "3dc53b8a83b54957a49fdc0c7293b7ee",
    "tags": [],
    "deepnote_cell_type": "markdown",
    "deepnote_cell_height": 399.796875
   }
  },
  {
   "cell_type": "code",
   "metadata": {
    "cell_id": "ed59315d48ed4095905602bd66c18400",
    "tags": [],
    "deepnote_to_be_reexecuted": false,
    "source_hash": "b6d322ce",
    "execution_start": 1654610506658,
    "execution_millis": 0,
    "deepnote_cell_type": "code",
    "deepnote_cell_height": 81
   },
   "source": "// TODO student",
   "execution_count": null,
   "outputs": []
  },
  {
   "cell_type": "markdown",
   "source": "<a style='text-decoration:none;line-height:16px;display:flex;color:#5B5B62;padding:10px;justify-content:end;' href='https://deepnote.com?utm_source=created-in-deepnote-cell&projectId=e4added7-fb86-4475-95f5-9b3ee51af0de' target=\"_blank\">\n<img alt='Created in deepnote.com' style='display:inline;max-height:16px;margin:0px;margin-right:7.5px;' src='data:image/svg+xml;base64,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' > </img>\nCreated in <span style='font-weight:600;margin-left:4px;'>Deepnote</span></a>",
   "metadata": {
    "tags": [],
    "created_in_deepnote_cell": true,
    "deepnote_cell_type": "markdown"
   }
  }
 ],
 "nbformat": 4,
 "nbformat_minor": 2,
 "metadata": {
  "orig_nbformat": 2,
  "deepnote_notebook_id": "b8997f99-9778-4157-a2ee-a572958128a2",
  "deepnote_execution_queue": [],
  "deepnote": {}
 }
}